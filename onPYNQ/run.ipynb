{
 "cells": [
  {
   "cell_type": "code",
   "execution_count": 1,
   "metadata": {},
   "outputs": [
    {
     "data": {
      "application/javascript": [
       "\n",
       "try {\n",
       "require(['notebook/js/codecell'], function(codecell) {\n",
       "  codecell.CodeCell.options_default.highlight_modes[\n",
       "      'magic_text/x-csrc'] = {'reg':[/^%%microblaze/]};\n",
       "  Jupyter.notebook.events.one('kernel_ready.Kernel', function(){\n",
       "      Jupyter.notebook.get_cells().map(function(cell){\n",
       "          if (cell.cell_type == 'code'){ cell.auto_highlight(); } }) ;\n",
       "  });\n",
       "});\n",
       "} catch (e) {};\n"
      ]
     },
     "metadata": {},
     "output_type": "display_data"
    },
    {
     "data": {
      "application/javascript": [
       "\n",
       "try {\n",
       "require(['notebook/js/codecell'], function(codecell) {\n",
       "  codecell.CodeCell.options_default.highlight_modes[\n",
       "      'magic_text/x-csrc'] = {'reg':[/^%%pybind11/]};\n",
       "  Jupyter.notebook.events.one('kernel_ready.Kernel', function(){\n",
       "      Jupyter.notebook.get_cells().map(function(cell){\n",
       "          if (cell.cell_type == 'code'){ cell.auto_highlight(); } }) ;\n",
       "  });\n",
       "});\n",
       "} catch (e) {};\n"
      ]
     },
     "metadata": {},
     "output_type": "display_data"
    }
   ],
   "source": [
    "import numpy as np\n",
    "import os\n",
    "from finn.core.datatype import DataType\n",
    "from final_011903.output_final.driver.driver_base import FINNExampleOverlay\n",
    "from tqdm import tqdm\n",
    "# import torch"
   ]
  },
  {
   "cell_type": "code",
   "execution_count": 2,
   "metadata": {},
   "outputs": [],
   "source": [
    "build_dir = \"final_011903\""
   ]
  },
  {
   "cell_type": "code",
   "execution_count": 3,
   "metadata": {},
   "outputs": [],
   "source": [
    "bitfile = f\"./{build_dir}/output_final/bitfile/finn-accel.bit\"\n",
    "platform = \"zynq-iodma\"\n",
    "io_shape_dict = {\n",
    "    # FINN DataType for input and output tensors\n",
    "    \"idt\" : [DataType['INT8']],\n",
    "    \"odt\" : [DataType['INT8']],\n",
    "    # shapes for input and output tensors (NHWC layout)\n",
    "    \"ishape_normal\" : [(1, 1, 128, 1)],\n",
    "    \"oshape_normal\" : [(1, 8)],\n",
    "    # folded / packed shapes below depend on idt/odt and input/output\n",
    "    # PE/SIMD parallelization settings -- these are calculated by the\n",
    "    # FINN compiler.\n",
    "    \"ishape_folded\" : [(1, 1, 128, 1, 1)],\n",
    "    \"oshape_folded\" : [(1, 8, 1)],\n",
    "    \"ishape_packed\" : [(1, 1, 128, 1, 1)],\n",
    "    \"oshape_packed\" : [(1, 8, 1)],\n",
    "    \"input_dma_name\" : ['idma0'],\n",
    "    \"output_dma_name\" : ['odma0'],\n",
    "    \"number_of_external_weights\": 0,\n",
    "    \"num_inputs\" : 1,\n",
    "    \"num_outputs\" : 1,\n",
    "}\n",
    "batch_size = 1\n",
    "runtime_weight_dir = f\"./{build_dir}/runtime_weights/\"\n",
    "\n",
    "\n",
    "verif_model_filename = \"./{build_dir}/brevitas07-IEEE-verification.onnx\""
   ]
  },
  {
   "cell_type": "code",
   "execution_count": 4,
   "metadata": {},
   "outputs": [],
   "source": [
    "# inputfile_0 = \"./val_data/0/101_100722.npy\"\n",
    "# inputfile_1 = \"./val_data/1/105_198328.npy\"\n",
    "# inputfile_2 = \"./val_data/2/109_100722.npy\"\n",
    "# inputfile_3 = \"./val_data/3/107_101575.npy\"\n",
    "# inputfile_4 = \"./val_data/4/118_101077.npy\"\n",
    "# inputfile_5 = \"./val_data/5/101_532014.npy\"\n",
    "# inputfile_6 = \"./val_data/6/207_597800.npy\"\n",
    "# inputfile_7 = \"./val_data/7/207_15258.npy\"\n",
    "outputfile = \"output.npy\""
   ]
  },
  {
   "cell_type": "code",
   "execution_count": 5,
   "metadata": {},
   "outputs": [
    {
     "name": "stdout",
     "output_type": "stream",
     "text": [
      "['207_619539.npy', '207_606449.npy', '207_621387.npy', '207_611866.npy', '207_615728.npy', '207_597800.npy', '207_609371.npy', '210_634129.npy', '207_606126.npy', '207_612171.npy', '207_609682.npy']\n"
     ]
    }
   ],
   "source": [
    "import os\n",
    "file_list = os.listdir(\"./val_data/6\")\n",
    "print(file_list)"
   ]
  },
  {
   "cell_type": "code",
   "execution_count": 6,
   "metadata": {},
   "outputs": [
    {
     "name": "stdout",
     "output_type": "stream",
     "text": [
      "CPU times: user 444 ms, sys: 100 ms, total: 544 ms\n",
      "Wall time: 626 ms\n"
     ]
    }
   ],
   "source": [
    "%%time\n",
    "accel = FINNExampleOverlay(\n",
    "        bitfile_name = bitfile, platform = platform,\n",
    "        io_shape_dict = io_shape_dict, batch_size = batch_size,\n",
    "        runtime_weight_dir = runtime_weight_dir\n",
    "    )"
   ]
  },
  {
   "cell_type": "code",
   "execution_count": 8,
   "metadata": {},
   "outputs": [
    {
     "name": "stdout",
     "output_type": "stream",
     "text": [
      "nowIndex:0,acc:0.9220917822838848, (6048/6559)\n",
      "nowIndex:1,acc:0.7112375533428165, (500/703)\n",
      "nowIndex:2,acc:0.8228004956629492, (664/807)\n",
      "nowIndex:3,acc:0.6077348066298343, (220/362)\n",
      "nowIndex:4,acc:0.9284467713787086, (532/573)\n",
      "nowIndex:5,acc:0.6, (150/250)\n",
      "nowIndex:6,acc:0.8181818181818182, (9/11)\n",
      "nowIndex:7,acc:0.10638297872340426, (5/47)\n",
      "TOTAL acc:0.872852233676976, (8128/9312)\n",
      "CPU times: user 1min 7s, sys: 1.68 s, total: 1min 8s\n",
      "Wall time: 1min 9s\n"
     ]
    }
   ],
   "source": [
    "%%time\n",
    "nowIndex = 6\n",
    "total_corr = 0\n",
    "total_len = 0\n",
    "for nowIndex in range(0,8):\n",
    "    nowDir = f\"./val_data/{nowIndex}/\"\n",
    "    file_list = os.listdir(nowDir)\n",
    "    correct = 0\n",
    "    for file in file_list:\n",
    "    #     print(file)\n",
    "        ibuf_normal = np.load(nowDir+file).astype(\"float32\")\n",
    "\n",
    "        mean_val = ibuf_normal.mean()\n",
    "        ibuf_normal = ibuf_normal-mean_val\n",
    "        range_val = ibuf_normal.max() if ibuf_normal.max() > -ibuf_normal.min() else -ibuf_normal.min()\n",
    "        range_val = range_val / 120\n",
    "        ibuf_normal = (ibuf_normal/range_val)\n",
    "        # print(mean_val, range_val)\n",
    "        # plt.plot(img)\n",
    "        # plt.show()\n",
    "        # plt.close()\n",
    "        # print(img)\n",
    "\n",
    "        ibuf_normal = ibuf_normal.reshape(1,1,128,1).astype(np.int8)\n",
    "    #     print(ibuf_normal.max(),ibuf_normal.min())\n",
    "    #     print(ibuf_normal.shape)\n",
    "\n",
    "        obuf_normal = accel.execute(ibuf_normal)\n",
    "#         print(obuf_normal.argmax() , nowIndex)\n",
    "        if obuf_normal.argmax() == nowIndex:\n",
    "            correct += 1\n",
    "    print(f\"nowIndex:{nowIndex},acc:{correct/len(file_list)}, ({correct}/{len(file_list)})\")\n",
    "    total_corr += correct\n",
    "    total_len += len(file_list)\n",
    "print(f\"TOTAL acc:{total_corr/total_len}, ({total_corr}/{total_len})\")"
   ]
  },
  {
   "cell_type": "code",
   "execution_count": 11,
   "metadata": {},
   "outputs": [
    {
     "name": "stdout",
     "output_type": "stream",
     "text": [
      "nowIndex:0,acc:0.04329928342735173, (284/6559)\n",
      "nowIndex:1,acc:0.002844950213371266, (2/703)\n",
      "nowIndex:2,acc:0.0, (0/807)\n",
      "nowIndex:3,acc:0.008287292817679558, (3/362)\n",
      "nowIndex:4,acc:0.0, (0/573)\n",
      "nowIndex:5,acc:0.0, (0/250)\n",
      "nowIndex:6,acc:0.0, (0/11)\n",
      "nowIndex:7,acc:0.02127659574468085, (1/47)\n",
      "TOTAL acc:0.031142611683848798, (290/9312)\n",
      "CPU times: user 43.9 s, sys: 926 ms, total: 44.8 s\n",
      "Wall time: 44.8 s\n"
     ]
    }
   ],
   "source": [
    "%%time\n",
    "nowIndex = 6\n",
    "total_corr = 0\n",
    "total_len = 0\n",
    "for nowIndex in range(0,8):\n",
    "    nowDir = f\"./val_data/{nowIndex}/\"\n",
    "    file_list = os.listdir(nowDir)\n",
    "    correct = 0\n",
    "    for file in file_list:\n",
    "    #     print(file)\n",
    "        ibuf_normal = np.load(nowDir+file).astype(\"float32\")\n",
    "\n",
    "        mean_val = ibuf_normal.mean()\n",
    "        ibuf_normal = ibuf_normal-mean_val\n",
    "        range_val = ibuf_normal.max() if ibuf_normal.max() > -ibuf_normal.min() else -ibuf_normal.min()\n",
    "        range_val = range_val / 120\n",
    "        ibuf_normal = (ibuf_normal/range_val)\n",
    "        # print(mean_val, range_val)\n",
    "        # plt.plot(img)\n",
    "        # plt.show()\n",
    "        # plt.close()\n",
    "        # print(img)\n",
    "\n",
    "        ibuf_normal = ibuf_normal.reshape(1,1,128,1).astype(np.int8)\n",
    "    #     print(ibuf_normal.max(),ibuf_normal.min())\n",
    "    #     print(ibuf_normal.shape)\n",
    "\n",
    "        obuf_normal = ibuf_normal\n",
    "#         print(obuf_normal)\n",
    "        if obuf_normal.argmax() == nowIndex:\n",
    "            correct += 1\n",
    "    print(f\"nowIndex:{nowIndex},acc:{correct/len(file_list)}, ({correct}/{len(file_list)})\")\n",
    "    total_corr += correct\n",
    "    total_len += len(file_list)\n",
    "print(f\"TOTAL acc:{total_corr/total_len}, ({total_corr}/{total_len})\")"
   ]
  },
  {
   "cell_type": "code",
   "execution_count": 12,
   "metadata": {},
   "outputs": [
    {
     "name": "stdout",
     "output_type": "stream",
     "text": [
      "Results written to nw_metrics.txt\n"
     ]
    }
   ],
   "source": [
    "try:\n",
    "    os.remove(f\"nw_metrics_{build_dir}.txt\")\n",
    "except FileNotFoundError:\n",
    "    pass\n",
    "\n",
    "res = accel.throughput_test()\n",
    "file = open(f\"nw_metrics_{build_dir}.txt\", \"w\")\n",
    "file.write(str(res))\n",
    "file.close()\n",
    "print(\"Results written to nw_metrics.txt\")"
   ]
  },
  {
   "cell_type": "code",
   "execution_count": null,
   "metadata": {},
   "outputs": [],
   "source": []
  },
  {
   "cell_type": "code",
   "execution_count": null,
   "metadata": {},
   "outputs": [],
   "source": []
  }
 ],
 "metadata": {
  "kernelspec": {
   "display_name": "Python 3",
   "language": "python",
   "name": "python3"
  },
  "language_info": {
   "codemirror_mode": {
    "name": "ipython",
    "version": 3
   },
   "file_extension": ".py",
   "mimetype": "text/x-python",
   "name": "python",
   "nbconvert_exporter": "python",
   "pygments_lexer": "ipython3",
   "version": "3.6.5"
  }
 },
 "nbformat": 4,
 "nbformat_minor": 2
}
